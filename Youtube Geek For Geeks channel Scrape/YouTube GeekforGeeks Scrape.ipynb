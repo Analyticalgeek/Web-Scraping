{
 "cells": [
  {
   "cell_type": "markdown",
   "id": "d19ccda5",
   "metadata": {},
   "source": [
    "### **1.Importing Necessary Packages and Libraries**"
   ]
  },
  {
   "cell_type": "code",
   "execution_count": null,
   "id": "64a9c57d",
   "metadata": {},
   "outputs": [],
   "source": [
    "!pip install selenium"
   ]
  },
  {
   "cell_type": "code",
   "execution_count": 1,
   "id": "9b522a18",
   "metadata": {},
   "outputs": [],
   "source": [
    "from selenium import webdriver\n",
    "from bs4 import BeautifulSoup\n",
    "import pandas as pd\n",
    "import numpy as np\n",
    "import time\n",
    "from tqdm import tqdm"
   ]
  },
  {
   "cell_type": "code",
   "execution_count": 2,
   "id": "e3ef8f02",
   "metadata": {},
   "outputs": [],
   "source": [
    "driver = webdriver.Chrome()\n",
    "driver.get('https://www.youtube.com/@GeeksforGeeksVideos/videos')"
   ]
  },
  {
   "cell_type": "markdown",
   "id": "8398bfbd",
   "metadata": {},
   "source": [
    "### **2. Auto scroll to reach the bottom of the Page**"
   ]
  },
  {
   "cell_type": "code",
   "execution_count": 3,
   "id": "41f9b5ac",
   "metadata": {},
   "outputs": [],
   "source": [
    "def auto_scroll(driver, start, end, step, delay):\n",
    "    for i in tqdm(range(start, end, step)):\n",
    "        driver.execute_script(\"window.scrollTo(0,\" + str(i) + \")\")\n",
    "        time.sleep(delay)"
   ]
  },
  {
   "cell_type": "code",
   "execution_count": 4,
   "id": "c7348648",
   "metadata": {},
   "outputs": [
    {
     "name": "stderr",
     "output_type": "stream",
     "text": [
      "100%|████████████████████████████████████████████████████████████████████████████████| 350/350 [02:12<00:00,  2.65it/s]\n"
     ]
    }
   ],
   "source": [
    "auto_scroll(driver, 0, 350000, 1000, 0.1)"
   ]
  },
  {
   "cell_type": "markdown",
   "id": "5257112f",
   "metadata": {},
   "source": [
    "### **3. Scraping the Page Course**"
   ]
  },
  {
   "cell_type": "code",
   "execution_count": 5,
   "id": "8b9903da",
   "metadata": {},
   "outputs": [],
   "source": [
    "soup = BeautifulSoup(driver.page_source,'html.parser')"
   ]
  },
  {
   "cell_type": "markdown",
   "id": "5df4aec3",
   "metadata": {},
   "source": [
    "### **4. Finding all the videos tags and Information of GFG channel**"
   ]
  },
  {
   "cell_type": "code",
   "execution_count": 6,
   "id": "1dc4ce2f",
   "metadata": {},
   "outputs": [
    {
     "data": {
      "text/plain": [
       "1770"
      ]
     },
     "execution_count": 6,
     "metadata": {},
     "output_type": "execute_result"
    }
   ],
   "source": [
    "sp = soup.find_all('ytd-rich-item-renderer')\n",
    "len(sp)"
   ]
  },
  {
   "cell_type": "code",
   "execution_count": 7,
   "id": "3f669255",
   "metadata": {},
   "outputs": [],
   "source": [
    "data = []\n",
    "for sp in soup.find_all('ytd-rich-item-renderer'):\n",
    "    title                  =    sp.find('a', id = 'video-title-link').text\n",
    "    video_link             =    sp.find('a', id = 'video-title-link').get('href')\n",
    "    try:\n",
    "        views              =    sp.find_all('span', class_ = 'inline-metadata-item style-scope ytd-video-meta-block')[0].text\n",
    "    except:\n",
    "        views              = None\n",
    "    try:\n",
    "        date_time          =    sp.find_all('span', class_ = 'inline-metadata-item style-scope ytd-video-meta-block')[1].text\n",
    "    except:\n",
    "        date_time          = None\n",
    "    try:\n",
    "        thumbnail_link     =    sp.find('img').get('src').split('?')[0]\n",
    "    except:\n",
    "        thumbnail_link     = None\n",
    "    \n",
    "    data.append([title, views, date_time, video_link, thumbnail_link])"
   ]
  },
  {
   "cell_type": "code",
   "execution_count": 8,
   "id": "9a734a1a",
   "metadata": {},
   "outputs": [
    {
     "data": {
      "text/plain": [
       "1770"
      ]
     },
     "execution_count": 8,
     "metadata": {},
     "output_type": "execute_result"
    }
   ],
   "source": [
    "len(data)"
   ]
  },
  {
   "cell_type": "markdown",
   "id": "1ff9905a",
   "metadata": {},
   "source": [
    "### **5. Creating a dataframe**"
   ]
  },
  {
   "cell_type": "code",
   "execution_count": 9,
   "id": "97d544dc",
   "metadata": {},
   "outputs": [
    {
     "data": {
      "text/html": [
       "<div>\n",
       "<style scoped>\n",
       "    .dataframe tbody tr th:only-of-type {\n",
       "        vertical-align: middle;\n",
       "    }\n",
       "\n",
       "    .dataframe tbody tr th {\n",
       "        vertical-align: top;\n",
       "    }\n",
       "\n",
       "    .dataframe thead th {\n",
       "        text-align: right;\n",
       "    }\n",
       "</style>\n",
       "<table border=\"1\" class=\"dataframe\">\n",
       "  <thead>\n",
       "    <tr style=\"text-align: right;\">\n",
       "      <th></th>\n",
       "      <th>Title</th>\n",
       "      <th>Views</th>\n",
       "      <th>Date_time</th>\n",
       "      <th>Video_link</th>\n",
       "      <th>Thumbnail_link</th>\n",
       "    </tr>\n",
       "  </thead>\n",
       "  <tbody>\n",
       "    <tr>\n",
       "      <th>0</th>\n",
       "      <td>TREE DATA STRUCTURES | What is Tree? | DSA Cou...</td>\n",
       "      <td>333 views</td>\n",
       "      <td>5 hours ago</td>\n",
       "      <td>/watch?v=AylOfzYJ2qE</td>\n",
       "      <td>https://i.ytimg.com/vi/AylOfzYJ2qE/hqdefault.jpg</td>\n",
       "    </tr>\n",
       "    <tr>\n",
       "      <th>1</th>\n",
       "      <td>Three 90 Challenge Extended | 100+ Refunds Pro...</td>\n",
       "      <td>6.7K views</td>\n",
       "      <td>1 day ago</td>\n",
       "      <td>/watch?v=FVCERWiQSDY</td>\n",
       "      <td>https://i.ytimg.com/vi/FVCERWiQSDY/hqdefault.jpg</td>\n",
       "    </tr>\n",
       "    <tr>\n",
       "      <th>2</th>\n",
       "      <td>TYPESCRIPT vs JAVASCRIPT | Which one to Choose...</td>\n",
       "      <td>494 views</td>\n",
       "      <td>2 days ago</td>\n",
       "      <td>/watch?v=BFf8n2RrKtM</td>\n",
       "      <td>https://i.ytimg.com/vi/BFf8n2RrKtM/hqdefault.jpg</td>\n",
       "    </tr>\n",
       "    <tr>\n",
       "      <th>3</th>\n",
       "      <td>Python's Map Function Explained with Examples ...</td>\n",
       "      <td>782 views</td>\n",
       "      <td>4 days ago</td>\n",
       "      <td>/watch?v=L66_EOxzLKI</td>\n",
       "      <td>https://i.ytimg.com/vi/L66_EOxzLKI/hqdefault.jpg</td>\n",
       "    </tr>\n",
       "    <tr>\n",
       "      <th>4</th>\n",
       "      <td>Build your own AI image Generation App using M...</td>\n",
       "      <td>1.5K views</td>\n",
       "      <td>6 days ago</td>\n",
       "      <td>/watch?v=stcihX2eavw</td>\n",
       "      <td>https://i.ytimg.com/vi/stcihX2eavw/hqdefault.jpg</td>\n",
       "    </tr>\n",
       "    <tr>\n",
       "      <th>...</th>\n",
       "      <td>...</td>\n",
       "      <td>...</td>\n",
       "      <td>...</td>\n",
       "      <td>...</td>\n",
       "      <td>...</td>\n",
       "    </tr>\n",
       "    <tr>\n",
       "      <th>1765</th>\n",
       "      <td>Length of shortest chain to reach a target wor...</td>\n",
       "      <td>42K views</td>\n",
       "      <td>7 years ago</td>\n",
       "      <td>/watch?v=6pIC20wCm20</td>\n",
       "      <td>https://i.ytimg.com/vi/6pIC20wCm20/hqdefault.jpg</td>\n",
       "    </tr>\n",
       "    <tr>\n",
       "      <th>1766</th>\n",
       "      <td>Binary Search | GeeksQuiz</td>\n",
       "      <td>190K views</td>\n",
       "      <td>7 years ago</td>\n",
       "      <td>/watch?v=T2sFYY-fT5o</td>\n",
       "      <td>https://i.ytimg.com/vi/T2sFYY-fT5o/hqdefault.jpg</td>\n",
       "    </tr>\n",
       "    <tr>\n",
       "      <th>1767</th>\n",
       "      <td>Number of Triangles in an Undirected Graph | G...</td>\n",
       "      <td>18K views</td>\n",
       "      <td>7 years ago</td>\n",
       "      <td>/watch?v=ChdNz1Ui1uc</td>\n",
       "      <td>https://i.ytimg.com/vi/ChdNz1Ui1uc/hqdefault.jpg</td>\n",
       "    </tr>\n",
       "    <tr>\n",
       "      <th>1768</th>\n",
       "      <td>Write a program to print all permutations of a...</td>\n",
       "      <td>484K views</td>\n",
       "      <td>8 years ago</td>\n",
       "      <td>/watch?v=AfxHGNRtFac</td>\n",
       "      <td>https://i.ytimg.com/vi/AfxHGNRtFac/hqdefault.jpg</td>\n",
       "    </tr>\n",
       "    <tr>\n",
       "      <th>1769</th>\n",
       "      <td>Longest Span with same Sum in two Binary array...</td>\n",
       "      <td>298K views</td>\n",
       "      <td>8 years ago</td>\n",
       "      <td>/watch?v=xtfj4-r_Ahs</td>\n",
       "      <td>https://i.ytimg.com/vi/xtfj4-r_Ahs/hqdefault.jpg</td>\n",
       "    </tr>\n",
       "  </tbody>\n",
       "</table>\n",
       "<p>1770 rows × 5 columns</p>\n",
       "</div>"
      ],
      "text/plain": [
       "                                                  Title       Views  \\\n",
       "0     TREE DATA STRUCTURES | What is Tree? | DSA Cou...   333 views   \n",
       "1     Three 90 Challenge Extended | 100+ Refunds Pro...  6.7K views   \n",
       "2     TYPESCRIPT vs JAVASCRIPT | Which one to Choose...   494 views   \n",
       "3     Python's Map Function Explained with Examples ...   782 views   \n",
       "4     Build your own AI image Generation App using M...  1.5K views   \n",
       "...                                                 ...         ...   \n",
       "1765  Length of shortest chain to reach a target wor...   42K views   \n",
       "1766                          Binary Search | GeeksQuiz  190K views   \n",
       "1767  Number of Triangles in an Undirected Graph | G...   18K views   \n",
       "1768  Write a program to print all permutations of a...  484K views   \n",
       "1769  Longest Span with same Sum in two Binary array...  298K views   \n",
       "\n",
       "        Date_time            Video_link  \\\n",
       "0     5 hours ago  /watch?v=AylOfzYJ2qE   \n",
       "1       1 day ago  /watch?v=FVCERWiQSDY   \n",
       "2      2 days ago  /watch?v=BFf8n2RrKtM   \n",
       "3      4 days ago  /watch?v=L66_EOxzLKI   \n",
       "4      6 days ago  /watch?v=stcihX2eavw   \n",
       "...           ...                   ...   \n",
       "1765  7 years ago  /watch?v=6pIC20wCm20   \n",
       "1766  7 years ago  /watch?v=T2sFYY-fT5o   \n",
       "1767  7 years ago  /watch?v=ChdNz1Ui1uc   \n",
       "1768  8 years ago  /watch?v=AfxHGNRtFac   \n",
       "1769  8 years ago  /watch?v=xtfj4-r_Ahs   \n",
       "\n",
       "                                        Thumbnail_link  \n",
       "0     https://i.ytimg.com/vi/AylOfzYJ2qE/hqdefault.jpg  \n",
       "1     https://i.ytimg.com/vi/FVCERWiQSDY/hqdefault.jpg  \n",
       "2     https://i.ytimg.com/vi/BFf8n2RrKtM/hqdefault.jpg  \n",
       "3     https://i.ytimg.com/vi/L66_EOxzLKI/hqdefault.jpg  \n",
       "4     https://i.ytimg.com/vi/stcihX2eavw/hqdefault.jpg  \n",
       "...                                                ...  \n",
       "1765  https://i.ytimg.com/vi/6pIC20wCm20/hqdefault.jpg  \n",
       "1766  https://i.ytimg.com/vi/T2sFYY-fT5o/hqdefault.jpg  \n",
       "1767  https://i.ytimg.com/vi/ChdNz1Ui1uc/hqdefault.jpg  \n",
       "1768  https://i.ytimg.com/vi/AfxHGNRtFac/hqdefault.jpg  \n",
       "1769  https://i.ytimg.com/vi/xtfj4-r_Ahs/hqdefault.jpg  \n",
       "\n",
       "[1770 rows x 5 columns]"
      ]
     },
     "execution_count": 9,
     "metadata": {},
     "output_type": "execute_result"
    }
   ],
   "source": [
    "df = pd.DataFrame(data, columns = ['Title', 'Views', 'Date_time','Video_link', 'Thumbnail_link'])\n",
    "df"
   ]
  },
  {
   "cell_type": "markdown",
   "id": "57108eec",
   "metadata": {},
   "source": [
    "### **6. Checking Null Values**"
   ]
  },
  {
   "cell_type": "code",
   "execution_count": 10,
   "id": "2a2caadd",
   "metadata": {},
   "outputs": [
    {
     "data": {
      "text/plain": [
       "Title               0\n",
       "Views               0\n",
       "Date_time           0\n",
       "Video_link          0\n",
       "Thumbnail_link    836\n",
       "dtype: int64"
      ]
     },
     "execution_count": 10,
     "metadata": {},
     "output_type": "execute_result"
    }
   ],
   "source": [
    "df.isnull().sum()"
   ]
  },
  {
   "cell_type": "markdown",
   "id": "db267988",
   "metadata": {},
   "source": [
    "###  **7. Scraping the live Videos of  GFG**"
   ]
  },
  {
   "cell_type": "code",
   "execution_count": 11,
   "id": "433134d5",
   "metadata": {},
   "outputs": [],
   "source": [
    "driver.get('https://www.youtube.com/@GeeksforGeeksVideos/streams')"
   ]
  },
  {
   "cell_type": "code",
   "execution_count": 13,
   "id": "cf502b8a",
   "metadata": {},
   "outputs": [],
   "source": [
    "def auto_scroll(driver, start, end, step, delay):\n",
    "    for i in tqdm(range(start, end, step)):\n",
    "        driver.execute_script(\"window.scrollTo(0,\" + str(i) + \")\")\n",
    "        time.sleep(delay)"
   ]
  },
  {
   "cell_type": "code",
   "execution_count": 14,
   "id": "653d1681",
   "metadata": {},
   "outputs": [
    {
     "name": "stderr",
     "output_type": "stream",
     "text": [
      "100%|████████████████████████████████████████████████████████████████████████████████| 200/200 [01:28<00:00,  2.27it/s]\n"
     ]
    }
   ],
   "source": [
    "auto_scroll(driver, 0, 200000, 1000, 0.1)"
   ]
  },
  {
   "cell_type": "code",
   "execution_count": 15,
   "id": "97050d90",
   "metadata": {},
   "outputs": [],
   "source": [
    "soup1 = BeautifulSoup(driver.page_source,'html.parser')"
   ]
  },
  {
   "cell_type": "code",
   "execution_count": 16,
   "id": "1065bf29",
   "metadata": {},
   "outputs": [
    {
     "data": {
      "text/plain": [
       "840"
      ]
     },
     "execution_count": 16,
     "metadata": {},
     "output_type": "execute_result"
    }
   ],
   "source": [
    "sp1 = soup1.find_all('ytd-rich-item-renderer')\n",
    "len(sp1)"
   ]
  },
  {
   "cell_type": "code",
   "execution_count": 17,
   "id": "68b693a8",
   "metadata": {},
   "outputs": [],
   "source": [
    "data1 = []\n",
    "for sp in soup1.find_all('ytd-rich-item-renderer'):\n",
    "    title                  =    sp.find('a', id = 'video-title-link').text\n",
    "    video_link             =    sp.find('a', id = 'video-title-link').get('href')\n",
    "    try:\n",
    "        views              =    sp.find_all('span', class_ = 'inline-metadata-item style-scope ytd-video-meta-block')[0].text\n",
    "    except:\n",
    "        views              = None\n",
    "    try:\n",
    "        date_time          =    sp.find_all('span', class_ = 'inline-metadata-item style-scope ytd-video-meta-block')[1].text\n",
    "    except:\n",
    "        date_time          = None\n",
    "    try:\n",
    "        thumbnail_link     =    sp.find('img').get('src').split('?')[0]\n",
    "    except:\n",
    "        thumbnail_link     = None\n",
    "    \n",
    "    data1.append([title, views, date_time, video_link, thumbnail_link])"
   ]
  },
  {
   "cell_type": "code",
   "execution_count": 18,
   "id": "125c3896",
   "metadata": {},
   "outputs": [
    {
     "data": {
      "text/plain": [
       "840"
      ]
     },
     "execution_count": 18,
     "metadata": {},
     "output_type": "execute_result"
    }
   ],
   "source": [
    "len(data1)"
   ]
  },
  {
   "cell_type": "code",
   "execution_count": 19,
   "id": "5c6034d0",
   "metadata": {},
   "outputs": [
    {
     "data": {
      "text/html": [
       "<div>\n",
       "<style scoped>\n",
       "    .dataframe tbody tr th:only-of-type {\n",
       "        vertical-align: middle;\n",
       "    }\n",
       "\n",
       "    .dataframe tbody tr th {\n",
       "        vertical-align: top;\n",
       "    }\n",
       "\n",
       "    .dataframe thead th {\n",
       "        text-align: right;\n",
       "    }\n",
       "</style>\n",
       "<table border=\"1\" class=\"dataframe\">\n",
       "  <thead>\n",
       "    <tr style=\"text-align: right;\">\n",
       "      <th></th>\n",
       "      <th>Title</th>\n",
       "      <th>Views</th>\n",
       "      <th>Date_time</th>\n",
       "      <th>Video_link</th>\n",
       "      <th>Thumbnail_link</th>\n",
       "    </tr>\n",
       "  </thead>\n",
       "  <tbody>\n",
       "    <tr>\n",
       "      <th>0</th>\n",
       "      <td>Build a Responsive PORTFOLIO WEBSITE using Rea...</td>\n",
       "      <td>1 waiting</td>\n",
       "      <td>Scheduled for 2/19/24, 5:00 PM</td>\n",
       "      <td>/watch?v=w67P9N4qc5g</td>\n",
       "      <td>https://i.ytimg.com/vi/w67P9N4qc5g/hqdefault.jpg</td>\n",
       "    </tr>\n",
       "    <tr>\n",
       "      <th>1</th>\n",
       "      <td>Build Your Own ChatGPT using React JS and Open...</td>\n",
       "      <td>2.8K views</td>\n",
       "      <td>Streamed 3 days ago</td>\n",
       "      <td>/watch?v=v4E1GIoxXeE</td>\n",
       "      <td>https://i.ytimg.com/vi/v4E1GIoxXeE/hqdefault.jpg</td>\n",
       "    </tr>\n",
       "    <tr>\n",
       "      <th>2</th>\n",
       "      <td>GATE CSE Exam Shift 1 Complete Analysis | Deta...</td>\n",
       "      <td>16K views</td>\n",
       "      <td>Streamed 5 days ago</td>\n",
       "      <td>/watch?v=epKyoHOB9Mg</td>\n",
       "      <td>https://i.ytimg.com/vi/epKyoHOB9Mg/hqdefault.jpg</td>\n",
       "    </tr>\n",
       "    <tr>\n",
       "      <th>3</th>\n",
       "      <td>DATA STRUCTURE AND ALGORITHMS | GATE 2024 Ulti...</td>\n",
       "      <td>1.2K views</td>\n",
       "      <td>Streamed 7 days ago</td>\n",
       "      <td>/watch?v=2AaKJSgxkMQ</td>\n",
       "      <td>https://i.ytimg.com/vi/2AaKJSgxkMQ/hqdefault.jpg</td>\n",
       "    </tr>\n",
       "    <tr>\n",
       "      <th>4</th>\n",
       "      <td>COMPUTER ORGANIZATION AND ARCHITECTURE | GATE ...</td>\n",
       "      <td>865 views</td>\n",
       "      <td>Streamed 9 days ago</td>\n",
       "      <td>/watch?v=GWtnteWCgKM</td>\n",
       "      <td>https://i.ytimg.com/vi/GWtnteWCgKM/hqdefault.jpg</td>\n",
       "    </tr>\n",
       "    <tr>\n",
       "      <th>...</th>\n",
       "      <td>...</td>\n",
       "      <td>...</td>\n",
       "      <td>...</td>\n",
       "      <td>...</td>\n",
       "      <td>...</td>\n",
       "    </tr>\n",
       "    <tr>\n",
       "      <th>835</th>\n",
       "      <td>Webinar on Competitive Programming | GeeksforG...</td>\n",
       "      <td>21K views</td>\n",
       "      <td>Streamed 4 years ago</td>\n",
       "      <td>/watch?v=w81-gJQL-vg</td>\n",
       "      <td>https://i.ytimg.com/vi/w81-gJQL-vg/hqdefault.jpg</td>\n",
       "    </tr>\n",
       "    <tr>\n",
       "      <th>836</th>\n",
       "      <td>Webinar on Placement 100 Program | GeeksforGeeks</td>\n",
       "      <td>5.6K views</td>\n",
       "      <td>Streamed 4 years ago</td>\n",
       "      <td>/watch?v=do3LwEgfIGY</td>\n",
       "      <td>https://i.ytimg.com/vi/do3LwEgfIGY/hqdefault.jpg</td>\n",
       "    </tr>\n",
       "    <tr>\n",
       "      <th>837</th>\n",
       "      <td>Webinar on Placements and Internships | Geeksf...</td>\n",
       "      <td>10K views</td>\n",
       "      <td>Streamed 4 years ago</td>\n",
       "      <td>/watch?v=MiEqbUgcs48</td>\n",
       "      <td>https://i.ytimg.com/vi/MiEqbUgcs48/hqdefault.jpg</td>\n",
       "    </tr>\n",
       "    <tr>\n",
       "      <th>838</th>\n",
       "      <td>Webinar on DSA with Mr. Sandeep Jain(Founder  ...</td>\n",
       "      <td>12K views</td>\n",
       "      <td>Streamed 4 years ago</td>\n",
       "      <td>/watch?v=hoS3kEYbtGs</td>\n",
       "      <td>https://i.ytimg.com/vi/hoS3kEYbtGs/hqdefault.jpg</td>\n",
       "    </tr>\n",
       "    <tr>\n",
       "      <th>839</th>\n",
       "      <td>Webinar on DSA with Mr. Shashi Bhushan (Adobe,...</td>\n",
       "      <td>4.9K views</td>\n",
       "      <td>Streamed 4 years ago</td>\n",
       "      <td>/watch?v=SzGsRV6INuI</td>\n",
       "      <td>https://i.ytimg.com/vi/SzGsRV6INuI/hqdefault.jpg</td>\n",
       "    </tr>\n",
       "  </tbody>\n",
       "</table>\n",
       "<p>840 rows × 5 columns</p>\n",
       "</div>"
      ],
      "text/plain": [
       "                                                 Title       Views  \\\n",
       "0    Build a Responsive PORTFOLIO WEBSITE using Rea...   1 waiting   \n",
       "1    Build Your Own ChatGPT using React JS and Open...  2.8K views   \n",
       "2    GATE CSE Exam Shift 1 Complete Analysis | Deta...   16K views   \n",
       "3    DATA STRUCTURE AND ALGORITHMS | GATE 2024 Ulti...  1.2K views   \n",
       "4    COMPUTER ORGANIZATION AND ARCHITECTURE | GATE ...   865 views   \n",
       "..                                                 ...         ...   \n",
       "835  Webinar on Competitive Programming | GeeksforG...   21K views   \n",
       "836   Webinar on Placement 100 Program | GeeksforGeeks  5.6K views   \n",
       "837  Webinar on Placements and Internships | Geeksf...   10K views   \n",
       "838  Webinar on DSA with Mr. Sandeep Jain(Founder  ...   12K views   \n",
       "839  Webinar on DSA with Mr. Shashi Bhushan (Adobe,...  4.9K views   \n",
       "\n",
       "                          Date_time            Video_link  \\\n",
       "0    Scheduled for 2/19/24, 5:00 PM  /watch?v=w67P9N4qc5g   \n",
       "1               Streamed 3 days ago  /watch?v=v4E1GIoxXeE   \n",
       "2               Streamed 5 days ago  /watch?v=epKyoHOB9Mg   \n",
       "3               Streamed 7 days ago  /watch?v=2AaKJSgxkMQ   \n",
       "4               Streamed 9 days ago  /watch?v=GWtnteWCgKM   \n",
       "..                              ...                   ...   \n",
       "835            Streamed 4 years ago  /watch?v=w81-gJQL-vg   \n",
       "836            Streamed 4 years ago  /watch?v=do3LwEgfIGY   \n",
       "837            Streamed 4 years ago  /watch?v=MiEqbUgcs48   \n",
       "838            Streamed 4 years ago  /watch?v=hoS3kEYbtGs   \n",
       "839            Streamed 4 years ago  /watch?v=SzGsRV6INuI   \n",
       "\n",
       "                                       Thumbnail_link  \n",
       "0    https://i.ytimg.com/vi/w67P9N4qc5g/hqdefault.jpg  \n",
       "1    https://i.ytimg.com/vi/v4E1GIoxXeE/hqdefault.jpg  \n",
       "2    https://i.ytimg.com/vi/epKyoHOB9Mg/hqdefault.jpg  \n",
       "3    https://i.ytimg.com/vi/2AaKJSgxkMQ/hqdefault.jpg  \n",
       "4    https://i.ytimg.com/vi/GWtnteWCgKM/hqdefault.jpg  \n",
       "..                                                ...  \n",
       "835  https://i.ytimg.com/vi/w81-gJQL-vg/hqdefault.jpg  \n",
       "836  https://i.ytimg.com/vi/do3LwEgfIGY/hqdefault.jpg  \n",
       "837  https://i.ytimg.com/vi/MiEqbUgcs48/hqdefault.jpg  \n",
       "838  https://i.ytimg.com/vi/hoS3kEYbtGs/hqdefault.jpg  \n",
       "839  https://i.ytimg.com/vi/SzGsRV6INuI/hqdefault.jpg  \n",
       "\n",
       "[840 rows x 5 columns]"
      ]
     },
     "execution_count": 19,
     "metadata": {},
     "output_type": "execute_result"
    }
   ],
   "source": [
    "df1 = pd.DataFrame(data1, columns = ['Title', 'Views', 'Date_time','Video_link', 'Thumbnail_link'])\n",
    "df1"
   ]
  },
  {
   "cell_type": "code",
   "execution_count": 20,
   "id": "c3bc99e0",
   "metadata": {},
   "outputs": [
    {
     "data": {
      "text/plain": [
       "Title               0\n",
       "Views               0\n",
       "Date_time           0\n",
       "Video_link          0\n",
       "Thumbnail_link    380\n",
       "dtype: int64"
      ]
     },
     "execution_count": 20,
     "metadata": {},
     "output_type": "execute_result"
    }
   ],
   "source": [
    "df1.isnull().sum()"
   ]
  },
  {
   "cell_type": "markdown",
   "id": "aecef279",
   "metadata": {},
   "source": [
    "### **8. Merging the DataFrames**"
   ]
  },
  {
   "cell_type": "code",
   "execution_count": 21,
   "id": "1c5d1e89",
   "metadata": {},
   "outputs": [
    {
     "data": {
      "text/html": [
       "<div>\n",
       "<style scoped>\n",
       "    .dataframe tbody tr th:only-of-type {\n",
       "        vertical-align: middle;\n",
       "    }\n",
       "\n",
       "    .dataframe tbody tr th {\n",
       "        vertical-align: top;\n",
       "    }\n",
       "\n",
       "    .dataframe thead th {\n",
       "        text-align: right;\n",
       "    }\n",
       "</style>\n",
       "<table border=\"1\" class=\"dataframe\">\n",
       "  <thead>\n",
       "    <tr style=\"text-align: right;\">\n",
       "      <th></th>\n",
       "      <th>Title</th>\n",
       "      <th>Views</th>\n",
       "      <th>Date_time</th>\n",
       "      <th>Video_link</th>\n",
       "      <th>Thumbnail_link</th>\n",
       "    </tr>\n",
       "  </thead>\n",
       "  <tbody>\n",
       "    <tr>\n",
       "      <th>0</th>\n",
       "      <td>TREE DATA STRUCTURES | What is Tree? | DSA Cou...</td>\n",
       "      <td>333 views</td>\n",
       "      <td>5 hours ago</td>\n",
       "      <td>/watch?v=AylOfzYJ2qE</td>\n",
       "      <td>https://i.ytimg.com/vi/AylOfzYJ2qE/hqdefault.jpg</td>\n",
       "    </tr>\n",
       "    <tr>\n",
       "      <th>1</th>\n",
       "      <td>Three 90 Challenge Extended | 100+ Refunds Pro...</td>\n",
       "      <td>6.7K views</td>\n",
       "      <td>1 day ago</td>\n",
       "      <td>/watch?v=FVCERWiQSDY</td>\n",
       "      <td>https://i.ytimg.com/vi/FVCERWiQSDY/hqdefault.jpg</td>\n",
       "    </tr>\n",
       "    <tr>\n",
       "      <th>2</th>\n",
       "      <td>TYPESCRIPT vs JAVASCRIPT | Which one to Choose...</td>\n",
       "      <td>494 views</td>\n",
       "      <td>2 days ago</td>\n",
       "      <td>/watch?v=BFf8n2RrKtM</td>\n",
       "      <td>https://i.ytimg.com/vi/BFf8n2RrKtM/hqdefault.jpg</td>\n",
       "    </tr>\n",
       "    <tr>\n",
       "      <th>3</th>\n",
       "      <td>Python's Map Function Explained with Examples ...</td>\n",
       "      <td>782 views</td>\n",
       "      <td>4 days ago</td>\n",
       "      <td>/watch?v=L66_EOxzLKI</td>\n",
       "      <td>https://i.ytimg.com/vi/L66_EOxzLKI/hqdefault.jpg</td>\n",
       "    </tr>\n",
       "    <tr>\n",
       "      <th>4</th>\n",
       "      <td>Build your own AI image Generation App using M...</td>\n",
       "      <td>1.5K views</td>\n",
       "      <td>6 days ago</td>\n",
       "      <td>/watch?v=stcihX2eavw</td>\n",
       "      <td>https://i.ytimg.com/vi/stcihX2eavw/hqdefault.jpg</td>\n",
       "    </tr>\n",
       "    <tr>\n",
       "      <th>...</th>\n",
       "      <td>...</td>\n",
       "      <td>...</td>\n",
       "      <td>...</td>\n",
       "      <td>...</td>\n",
       "      <td>...</td>\n",
       "    </tr>\n",
       "    <tr>\n",
       "      <th>2605</th>\n",
       "      <td>Webinar on Competitive Programming | GeeksforG...</td>\n",
       "      <td>21K views</td>\n",
       "      <td>Streamed 4 years ago</td>\n",
       "      <td>/watch?v=w81-gJQL-vg</td>\n",
       "      <td>https://i.ytimg.com/vi/w81-gJQL-vg/hqdefault.jpg</td>\n",
       "    </tr>\n",
       "    <tr>\n",
       "      <th>2606</th>\n",
       "      <td>Webinar on Placement 100 Program | GeeksforGeeks</td>\n",
       "      <td>5.6K views</td>\n",
       "      <td>Streamed 4 years ago</td>\n",
       "      <td>/watch?v=do3LwEgfIGY</td>\n",
       "      <td>https://i.ytimg.com/vi/do3LwEgfIGY/hqdefault.jpg</td>\n",
       "    </tr>\n",
       "    <tr>\n",
       "      <th>2607</th>\n",
       "      <td>Webinar on Placements and Internships | Geeksf...</td>\n",
       "      <td>10K views</td>\n",
       "      <td>Streamed 4 years ago</td>\n",
       "      <td>/watch?v=MiEqbUgcs48</td>\n",
       "      <td>https://i.ytimg.com/vi/MiEqbUgcs48/hqdefault.jpg</td>\n",
       "    </tr>\n",
       "    <tr>\n",
       "      <th>2608</th>\n",
       "      <td>Webinar on DSA with Mr. Sandeep Jain(Founder  ...</td>\n",
       "      <td>12K views</td>\n",
       "      <td>Streamed 4 years ago</td>\n",
       "      <td>/watch?v=hoS3kEYbtGs</td>\n",
       "      <td>https://i.ytimg.com/vi/hoS3kEYbtGs/hqdefault.jpg</td>\n",
       "    </tr>\n",
       "    <tr>\n",
       "      <th>2609</th>\n",
       "      <td>Webinar on DSA with Mr. Shashi Bhushan (Adobe,...</td>\n",
       "      <td>4.9K views</td>\n",
       "      <td>Streamed 4 years ago</td>\n",
       "      <td>/watch?v=SzGsRV6INuI</td>\n",
       "      <td>https://i.ytimg.com/vi/SzGsRV6INuI/hqdefault.jpg</td>\n",
       "    </tr>\n",
       "  </tbody>\n",
       "</table>\n",
       "<p>2610 rows × 5 columns</p>\n",
       "</div>"
      ],
      "text/plain": [
       "                                                  Title       Views  \\\n",
       "0     TREE DATA STRUCTURES | What is Tree? | DSA Cou...   333 views   \n",
       "1     Three 90 Challenge Extended | 100+ Refunds Pro...  6.7K views   \n",
       "2     TYPESCRIPT vs JAVASCRIPT | Which one to Choose...   494 views   \n",
       "3     Python's Map Function Explained with Examples ...   782 views   \n",
       "4     Build your own AI image Generation App using M...  1.5K views   \n",
       "...                                                 ...         ...   \n",
       "2605  Webinar on Competitive Programming | GeeksforG...   21K views   \n",
       "2606   Webinar on Placement 100 Program | GeeksforGeeks  5.6K views   \n",
       "2607  Webinar on Placements and Internships | Geeksf...   10K views   \n",
       "2608  Webinar on DSA with Mr. Sandeep Jain(Founder  ...   12K views   \n",
       "2609  Webinar on DSA with Mr. Shashi Bhushan (Adobe,...  4.9K views   \n",
       "\n",
       "                 Date_time            Video_link  \\\n",
       "0              5 hours ago  /watch?v=AylOfzYJ2qE   \n",
       "1                1 day ago  /watch?v=FVCERWiQSDY   \n",
       "2               2 days ago  /watch?v=BFf8n2RrKtM   \n",
       "3               4 days ago  /watch?v=L66_EOxzLKI   \n",
       "4               6 days ago  /watch?v=stcihX2eavw   \n",
       "...                    ...                   ...   \n",
       "2605  Streamed 4 years ago  /watch?v=w81-gJQL-vg   \n",
       "2606  Streamed 4 years ago  /watch?v=do3LwEgfIGY   \n",
       "2607  Streamed 4 years ago  /watch?v=MiEqbUgcs48   \n",
       "2608  Streamed 4 years ago  /watch?v=hoS3kEYbtGs   \n",
       "2609  Streamed 4 years ago  /watch?v=SzGsRV6INuI   \n",
       "\n",
       "                                        Thumbnail_link  \n",
       "0     https://i.ytimg.com/vi/AylOfzYJ2qE/hqdefault.jpg  \n",
       "1     https://i.ytimg.com/vi/FVCERWiQSDY/hqdefault.jpg  \n",
       "2     https://i.ytimg.com/vi/BFf8n2RrKtM/hqdefault.jpg  \n",
       "3     https://i.ytimg.com/vi/L66_EOxzLKI/hqdefault.jpg  \n",
       "4     https://i.ytimg.com/vi/stcihX2eavw/hqdefault.jpg  \n",
       "...                                                ...  \n",
       "2605  https://i.ytimg.com/vi/w81-gJQL-vg/hqdefault.jpg  \n",
       "2606  https://i.ytimg.com/vi/do3LwEgfIGY/hqdefault.jpg  \n",
       "2607  https://i.ytimg.com/vi/MiEqbUgcs48/hqdefault.jpg  \n",
       "2608  https://i.ytimg.com/vi/hoS3kEYbtGs/hqdefault.jpg  \n",
       "2609  https://i.ytimg.com/vi/SzGsRV6INuI/hqdefault.jpg  \n",
       "\n",
       "[2610 rows x 5 columns]"
      ]
     },
     "execution_count": 21,
     "metadata": {},
     "output_type": "execute_result"
    }
   ],
   "source": [
    "merged_df = pd.concat([df, df1], ignore_index=True)\n",
    "merged_df"
   ]
  },
  {
   "cell_type": "code",
   "execution_count": 22,
   "id": "45cb075c",
   "metadata": {},
   "outputs": [
    {
     "data": {
      "text/plain": [
       "Title                0\n",
       "Views                0\n",
       "Date_time            0\n",
       "Video_link           0\n",
       "Thumbnail_link    1216\n",
       "dtype: int64"
      ]
     },
     "execution_count": 22,
     "metadata": {},
     "output_type": "execute_result"
    }
   ],
   "source": [
    "merged_df.isnull().sum()"
   ]
  },
  {
   "cell_type": "markdown",
   "id": "5ad95442",
   "metadata": {},
   "source": [
    "### **8. Saving to the csv file**"
   ]
  },
  {
   "cell_type": "code",
   "execution_count": 24,
   "id": "987d31c4",
   "metadata": {},
   "outputs": [],
   "source": [
    "merged_df.to_csv('gfg_videos.csv')"
   ]
  },
  {
   "cell_type": "markdown",
   "id": "0718c3a9",
   "metadata": {},
   "source": [
    "### **9. Closing the driver**"
   ]
  },
  {
   "cell_type": "code",
   "execution_count": 25,
   "id": "cc0470c9",
   "metadata": {},
   "outputs": [],
   "source": [
    "driver.quit()"
   ]
  }
 ],
 "metadata": {
  "kernelspec": {
   "display_name": "Python 3 (ipykernel)",
   "language": "python",
   "name": "python3"
  },
  "language_info": {
   "codemirror_mode": {
    "name": "ipython",
    "version": 3
   },
   "file_extension": ".py",
   "mimetype": "text/x-python",
   "name": "python",
   "nbconvert_exporter": "python",
   "pygments_lexer": "ipython3",
   "version": "3.11.5"
  }
 },
 "nbformat": 4,
 "nbformat_minor": 5
}
